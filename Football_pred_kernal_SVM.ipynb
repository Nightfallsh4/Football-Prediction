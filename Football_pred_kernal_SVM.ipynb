{
  "nbformat": 4,
  "nbformat_minor": 0,
  "metadata": {
    "colab": {
      "name": "Football_pred_kernal_SVM.ipynb",
      "provenance": []
    },
    "kernelspec": {
      "name": "python3",
      "display_name": "Python 3"
    }
  },
  "cells": [
    {
      "cell_type": "code",
      "metadata": {
        "id": "YzAT49KiRXOq"
      },
      "source": [
        "import numpy as np\n",
        "import matplotlib.pyplot as plt\n",
        "import pandas as pd"
      ],
      "execution_count": null,
      "outputs": []
    },
    {
      "cell_type": "code",
      "metadata": {
        "id": "A5eGHpivRfC2"
      },
      "source": [
        "dataset = pd.read_csv('soccer_international_history_dataset.csv')\n",
        "x = dataset.iloc[:, 1:-1].values\n",
        "y = dataset.iloc[:, -1].values"
      ],
      "execution_count": null,
      "outputs": []
    },
    {
      "cell_type": "code",
      "metadata": {
        "id": "EY4btuiPRg94"
      },
      "source": [
        "from sklearn.preprocessing import OneHotEncoder\n",
        "onehotencoder = OneHotEncoder()\n",
        "# Send only the first column to onehotencoder\n",
        "X_oneHotEncoded = onehotencoder.fit_transform(x[:, [0]]).toarray()\n",
        "X_oneHotEncoded1 = onehotencoder.fit_transform(x[:, [1]]).toarray()\n",
        "X_oneHotEncoded2 = onehotencoder.fit_transform(x[:, [2]]).toarray()\n",
        "x = np.hstack((X_oneHotEncoded, X_oneHotEncoded1, X_oneHotEncoded2))"
      ],
      "execution_count": null,
      "outputs": []
    },
    {
      "cell_type": "code",
      "metadata": {
        "id": "YRir3vRtRofr"
      },
      "source": [
        "from sklearn.preprocessing import LabelEncoder\n",
        "le = LabelEncoder()\n",
        "y = le.fit_transform(y)"
      ],
      "execution_count": null,
      "outputs": []
    },
    {
      "cell_type": "code",
      "metadata": {
        "id": "kSUHf5IrRs_q"
      },
      "source": [
        "from sklearn.model_selection import train_test_split\n",
        "X_train, X_test, y_train, y_test = train_test_split(x, y, test_size = 0.002584981, random_state = 0)"
      ],
      "execution_count": null,
      "outputs": []
    },
    {
      "cell_type": "code",
      "metadata": {
        "id": "Uk4HD_PcSDDb",
        "colab": {
          "base_uri": "https://localhost:8080/"
        },
        "outputId": "800ef275-1c9f-4fc5-f132-e250d3d355ea"
      },
      "source": [
        "from sklearn.svm import SVC\n",
        "classifier = SVC(kernel = 'rbf', random_state = 0)\n",
        "classifier.fit(X_train, y_train)"
      ],
      "execution_count": null,
      "outputs": [
        {
          "output_type": "execute_result",
          "data": {
            "text/plain": [
              "SVC(C=1.0, break_ties=False, cache_size=200, class_weight=None, coef0=0.0,\n",
              "    decision_function_shape='ovr', degree=3, gamma='scale', kernel='rbf',\n",
              "    max_iter=-1, probability=False, random_state=0, shrinking=True, tol=0.001,\n",
              "    verbose=False)"
            ]
          },
          "metadata": {
            "tags": []
          },
          "execution_count": 8
        }
      ]
    },
    {
      "cell_type": "code",
      "metadata": {
        "id": "Qqev6mCnSF-w",
        "colab": {
          "base_uri": "https://localhost:8080/"
        },
        "outputId": "fb514da7-02ed-4ee6-a500-91ea6b2688b5"
      },
      "source": [
        "y_pred = classifier.predict(X_test)\n",
        "print(np.concatenate((y_pred.reshape(len(y_pred),1), y_test.reshape(len(y_test),1)),1))"
      ],
      "execution_count": null,
      "outputs": [
        {
          "output_type": "stream",
          "text": [
            "[[2 0]\n",
            " [2 1]\n",
            " [1 2]\n",
            " [1 1]\n",
            " [2 0]\n",
            " [2 2]\n",
            " [1 1]\n",
            " [2 2]\n",
            " [1 2]\n",
            " [1 1]\n",
            " [2 0]\n",
            " [2 2]\n",
            " [2 2]\n",
            " [0 2]\n",
            " [2 0]\n",
            " [1 1]\n",
            " [2 2]\n",
            " [2 2]\n",
            " [1 2]\n",
            " [2 2]\n",
            " [2 2]\n",
            " [1 0]\n",
            " [2 1]\n",
            " [2 0]\n",
            " [2 2]\n",
            " [2 0]\n",
            " [2 0]\n",
            " [2 1]\n",
            " [1 1]\n",
            " [2 0]\n",
            " [1 0]\n",
            " [1 1]\n",
            " [0 1]\n",
            " [1 1]\n",
            " [2 2]\n",
            " [1 2]\n",
            " [1 0]\n",
            " [2 2]\n",
            " [2 1]\n",
            " [2 2]\n",
            " [1 1]\n",
            " [1 1]\n",
            " [1 0]\n",
            " [1 1]\n",
            " [2 1]\n",
            " [2 1]\n",
            " [2 2]\n",
            " [1 1]\n",
            " [2 0]\n",
            " [2 2]\n",
            " [2 1]\n",
            " [2 1]\n",
            " [1 1]\n",
            " [1 1]\n",
            " [0 1]\n",
            " [2 1]\n",
            " [2 2]\n",
            " [2 2]\n",
            " [1 2]\n",
            " [2 2]\n",
            " [2 0]\n",
            " [2 2]\n",
            " [2 2]\n",
            " [2 2]\n",
            " [1 1]\n",
            " [2 2]\n",
            " [2 1]\n",
            " [2 0]\n",
            " [2 2]\n",
            " [2 2]\n",
            " [0 0]\n",
            " [2 1]\n",
            " [2 2]\n",
            " [1 2]\n",
            " [2 2]\n",
            " [1 2]\n",
            " [2 2]\n",
            " [2 1]\n",
            " [2 2]\n",
            " [0 0]\n",
            " [2 2]\n",
            " [2 2]\n",
            " [2 2]\n",
            " [0 2]\n",
            " [2 2]\n",
            " [2 2]\n",
            " [2 2]\n",
            " [1 2]\n",
            " [2 2]\n",
            " [1 2]\n",
            " [0 0]\n",
            " [0 2]\n",
            " [2 0]\n",
            " [1 1]\n",
            " [2 2]\n",
            " [1 0]\n",
            " [1 1]\n",
            " [2 0]\n",
            " [1 1]\n",
            " [2 2]]\n"
          ],
          "name": "stdout"
        }
      ]
    },
    {
      "cell_type": "code",
      "metadata": {
        "id": "PU5On2w1SUIH",
        "colab": {
          "base_uri": "https://localhost:8080/"
        },
        "outputId": "5ee34e54-823d-45f5-ea0c-80bda75e414e"
      },
      "source": [
        "from sklearn.metrics import confusion_matrix, accuracy_score\n",
        "cm = confusion_matrix(y_test, y_pred)\n",
        "print(cm)\n",
        "accuracy_score(y_test, y_pred)"
      ],
      "execution_count": null,
      "outputs": [
        {
          "output_type": "stream",
          "text": [
            "[[ 3  5 13]\n",
            " [ 2 17 12]\n",
            " [ 3  9 36]]\n"
          ],
          "name": "stdout"
        },
        {
          "output_type": "execute_result",
          "data": {
            "text/plain": [
              "0.56"
            ]
          },
          "metadata": {
            "tags": []
          },
          "execution_count": 10
        }
      ]
    }
  ]
}